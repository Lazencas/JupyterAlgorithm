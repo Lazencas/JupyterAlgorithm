{
 "cells": [
  {
   "cell_type": "markdown",
   "id": "277165ff",
   "metadata": {},
   "source": [
    "# 링크드 리스트 (Linked List)"
   ]
  },
  {
   "cell_type": "markdown",
   "id": "26fbe9fd",
   "metadata": {},
   "source": [
    "## 1.링크드 리스트 구조\n",
    "\n",
    " - 연결 리스트\n",
    " - 배열의 단점을 보완하기 위해, 필요할때마다 추가 가능, 떨어진 곳에 존재하는 데이터를 화살표로 연결해서 관리하는 데이터 구조\n",
    " - 본래 C언어에서는 주요한 데이터 구조이지만, 파이썬은 리스트 타입이 링크드 리스트의 기능을 모두 지원"
   ]
  },
  {
   "cell_type": "markdown",
   "id": "fccd6de5",
   "metadata": {},
   "source": [
    "### 링크드 리스트 기본 구조와 용어\n",
    " - 노드(Node):데이터 저장 단위 (데이터값, 포인터)로 구성\n",
    " - 포인터(pointer): 각 노드 안에서, 다음이나 이전의 노드와의 연결 정보를 가지고 있는 공간"
   ]
  },
  {
   "cell_type": "code",
   "execution_count": 2,
   "id": "224f3e03",
   "metadata": {},
   "outputs": [],
   "source": [
    "class Node:\n",
    "    def __init__(self, data):\n",
    "     self.data = data\n",
    "     self.next = None\n"
   ]
  },
  {
   "cell_type": "markdown",
   "id": "5f8a7a45",
   "metadata": {},
   "source": [
    "Node끼리의 연결(포인터 활용)"
   ]
  },
  {
   "cell_type": "code",
   "execution_count": 3,
   "id": "0bea11cb",
   "metadata": {},
   "outputs": [],
   "source": [
    "node1 = Node(1)\n",
    "node2 = Node(2)\n",
    "node1.next = node2\n",
    "head = node1"
   ]
  },
  {
   "cell_type": "markdown",
   "id": "bb64e20b",
   "metadata": {},
   "source": [
    "링크드 리스트로 데이터 추가"
   ]
  },
  {
   "cell_type": "code",
   "execution_count": 4,
   "id": "6b075e4f",
   "metadata": {},
   "outputs": [],
   "source": [
    "def add(data):\n",
    "    node = head\n",
    "    while node.next:\n",
    "        node = node.next\n",
    "    node.next = Node(data)\n",
    "\n",
    "for index in range(3,11):\n",
    "    add(index)"
   ]
  },
  {
   "cell_type": "markdown",
   "id": "d95ffcd4",
   "metadata": {},
   "source": [
    "링크드 리스트 데이터 출력(검색)"
   ]
  },
  {
   "cell_type": "code",
   "execution_count": 5,
   "id": "bac45411",
   "metadata": {},
   "outputs": [
    {
     "name": "stdout",
     "output_type": "stream",
     "text": [
      "1\n",
      "2\n",
      "3\n",
      "4\n",
      "5\n",
      "6\n",
      "7\n",
      "8\n",
      "9\n",
      "10\n"
     ]
    }
   ],
   "source": [
    "node = head\n",
    "while node.next:\n",
    "    print(node.data)\n",
    "    node = node.next\n",
    "print(node.data)"
   ]
  },
  {
   "cell_type": "markdown",
   "id": "76255076",
   "metadata": {},
   "source": [
    "## 링크드리스트의 장단점\n",
    " - 장점\n",
    "  - 미리 크기를 지정하지 않아도 됨\n",
    "   \n",
    " - 단점 \n",
    "  - 연결을 위한 별도 데이터 공간이 필요하므로, 저장공간 효율이 높지 않음\n",
    "  - 연결정보를 찾는 시간이 필요하므로 접근 속도가 느림\n",
    "  - 중간데이터 삭제시 혹은 삽입시, 앞뒤 데이터의 연결을 재구성해야 하는 부가적인 작업 필요"
   ]
  },
  {
   "cell_type": "markdown",
   "id": "f4e804ca",
   "metadata": {},
   "source": [
    "### 값 삽입할때"
   ]
  },
  {
   "cell_type": "code",
   "execution_count": 6,
   "id": "50aeee87",
   "metadata": {},
   "outputs": [],
   "source": [
    "node3 = Node(1.5)"
   ]
  },
  {
   "cell_type": "code",
   "execution_count": 7,
   "id": "13fe55d2",
   "metadata": {},
   "outputs": [],
   "source": [
    "node = head\n",
    "search = True\n",
    "while search :\n",
    "    if node.data ==1:\n",
    "     search = False\n",
    "    else:\n",
    "     node = node.next\n",
    "\n",
    "node_next = node.next\n",
    "node.next = node3\n",
    "node3.next = node_next"
   ]
  },
  {
   "cell_type": "code",
   "execution_count": 8,
   "id": "40b9b24a",
   "metadata": {},
   "outputs": [
    {
     "name": "stdout",
     "output_type": "stream",
     "text": [
      "1\n",
      "1.5\n",
      "2\n",
      "3\n",
      "4\n",
      "5\n",
      "6\n",
      "7\n",
      "8\n",
      "9\n",
      "10\n"
     ]
    }
   ],
   "source": [
    "while node.next:\n",
    "    print(node.data)\n",
    "    node = node.next\n",
    "print(node.data)"
   ]
  },
  {
   "cell_type": "markdown",
   "id": "d309c28e",
   "metadata": {},
   "source": [
    "## 파이썬 객체지향 프로그래밍으로 링크드 리스트 구현하기"
   ]
  },
  {
   "cell_type": "code",
   "execution_count": 16,
   "id": "9f35a8db",
   "metadata": {},
   "outputs": [],
   "source": [
    "class Node:\n",
    "    def __init__(self, data):\n",
    "     self.data = data\n",
    "     self.next = None\n",
    "        \n",
    "class linkedMGT:\n",
    "    def __init__(self, data):\n",
    "        self.head = Node(data)\n",
    "        \n",
    "    def add(self, data):\n",
    "        node = self.head\n",
    "        if node =='':\n",
    "            node = Node(data)\n",
    "        else:\n",
    "            while node.next:\n",
    "                node=node.next\n",
    "            node.next = Node(data)\n",
    "            \n",
    "    def desc(self):\n",
    "        node = self.head\n",
    "        while node:\n",
    "            print(node.data)\n",
    "            node = node.next"
   ]
  },
  {
   "cell_type": "code",
   "execution_count": 19,
   "id": "07d458bf",
   "metadata": {},
   "outputs": [
    {
     "name": "stdout",
     "output_type": "stream",
     "text": [
      "0\n"
     ]
    }
   ],
   "source": [
    "linkedlist = linkedMGT(0)\n",
    "linkedlist.desc()"
   ]
  },
  {
   "cell_type": "code",
   "execution_count": 20,
   "id": "84b7055a",
   "metadata": {},
   "outputs": [],
   "source": [
    "for index in range(1,9):\n",
    "    linkedlist.add(index)"
   ]
  },
  {
   "cell_type": "code",
   "execution_count": 23,
   "id": "6d8455b0",
   "metadata": {},
   "outputs": [
    {
     "name": "stdout",
     "output_type": "stream",
     "text": [
      "0\n",
      "1\n",
      "2\n",
      "3\n",
      "4\n",
      "5\n",
      "6\n",
      "7\n",
      "8\n"
     ]
    }
   ],
   "source": [
    "linkedlist.desc()"
   ]
  },
  {
   "cell_type": "markdown",
   "id": "23867b7d",
   "metadata": {},
   "source": [
    "### 특정노드를 삭제할 때"
   ]
  },
  {
   "cell_type": "markdown",
   "id": "cd4a16f9",
   "metadata": {},
   "source": [
    "1.head삭제\n",
    "2.마지막노드삭제\n",
    "3.중간노드삭제"
   ]
  },
  {
   "cell_type": "code",
   "execution_count": 27,
   "id": "5fe2daa7",
   "metadata": {},
   "outputs": [],
   "source": [
    "class Node:\n",
    "        def __init__(self, data):\n",
    "            self.data = data\n",
    "            self.next = None\n",
    "\n",
    "\n",
    "class linkedMGT:\n",
    "    def __init__(self, data):\n",
    "        self.head = Node(data)\n",
    "        \n",
    "    def add(self, data):        \n",
    "        if self.head =='':\n",
    "            self.head = Node(data)\n",
    "        else:\n",
    "            node = self.head\n",
    "            while node.next:\n",
    "                node = node.next\n",
    "            node.next = Node(data)\n",
    "        \n",
    "        \n",
    "    def desc(self):\n",
    "        node=self.head\n",
    "        while node:\n",
    "            print(node.data)\n",
    "            node = node.next\n",
    "            \n",
    "    def delete(self, data):\n",
    "        if self.head=='':\n",
    "            print(\"해당 값을 가진 노드가 없습니다.\")\n",
    "            return\n",
    "            \n",
    "        if self.head.data == data:\n",
    "            temp = self.head\n",
    "            self.head=self.head.next\n",
    "            del temp\n",
    "        else:\n",
    "            node=self.head\n",
    "            while node.next:\n",
    "                if node.next.data == data:\n",
    "                   temp = node.next\n",
    "                   node.next=node.next.next\n",
    "                   del temp\n",
    "                else:\n",
    "                    node=node.next\n",
    "        "
   ]
  },
  {
   "cell_type": "code",
   "execution_count": 29,
   "id": "281ff8e6",
   "metadata": {},
   "outputs": [
    {
     "name": "stdout",
     "output_type": "stream",
     "text": [
      "0\n"
     ]
    }
   ],
   "source": [
    "linkedlist1 = linkedMGT(0)\n",
    "linkedlist1.desc()"
   ]
  },
  {
   "cell_type": "markdown",
   "id": "bc31b7af",
   "metadata": {},
   "source": [
    "헤드가 살아있음"
   ]
  },
  {
   "cell_type": "code",
   "execution_count": 30,
   "id": "b35954b4",
   "metadata": {},
   "outputs": [
    {
     "data": {
      "text/plain": [
       "<__main__.Node at 0x158cfcdf700>"
      ]
     },
     "execution_count": 30,
     "metadata": {},
     "output_type": "execute_result"
    }
   ],
   "source": [
    "linkedlist1.head"
   ]
  },
  {
   "cell_type": "markdown",
   "id": "6d61dd14",
   "metadata": {},
   "source": [
    "헤드를 지워봄"
   ]
  },
  {
   "cell_type": "code",
   "execution_count": 31,
   "id": "28737b91",
   "metadata": {},
   "outputs": [],
   "source": [
    "linkedlist1.delete(0)"
   ]
  },
  {
   "cell_type": "code",
   "execution_count": 32,
   "id": "9eef59df",
   "metadata": {},
   "outputs": [],
   "source": [
    "linkedlist1.head"
   ]
  },
  {
   "cell_type": "code",
   "execution_count": 33,
   "id": "edb86fe6",
   "metadata": {},
   "outputs": [
    {
     "name": "stdout",
     "output_type": "stream",
     "text": [
      "0\n"
     ]
    }
   ],
   "source": [
    "linkedlist1 = linkedMGT(0)\n",
    "linkedlist1.desc()"
   ]
  },
  {
   "cell_type": "code",
   "execution_count": 34,
   "id": "3b38ea0b",
   "metadata": {},
   "outputs": [
    {
     "name": "stdout",
     "output_type": "stream",
     "text": [
      "0\n",
      "1\n",
      "2\n",
      "3\n",
      "4\n",
      "5\n",
      "6\n",
      "7\n",
      "8\n",
      "9\n"
     ]
    }
   ],
   "source": [
    "for data in range(1, 10):\n",
    "    linkedlist1.add(data)\n",
    "linkedlist1.desc()"
   ]
  },
  {
   "cell_type": "markdown",
   "id": "090813e5",
   "metadata": {},
   "source": [
    "노드중에 한개를 삭제"
   ]
  },
  {
   "cell_type": "code",
   "execution_count": 35,
   "id": "0024774e",
   "metadata": {},
   "outputs": [],
   "source": [
    "linkedlist1.delete(4)\n",
    "linkedlist1.delete(7)"
   ]
  },
  {
   "cell_type": "code",
   "execution_count": 36,
   "id": "85b72673",
   "metadata": {},
   "outputs": [
    {
     "name": "stdout",
     "output_type": "stream",
     "text": [
      "0\n",
      "1\n",
      "2\n",
      "3\n",
      "5\n",
      "6\n",
      "8\n",
      "9\n"
     ]
    }
   ],
   "source": [
    "linkedlist1.desc()"
   ]
  },
  {
   "cell_type": "markdown",
   "id": "d8b8a6a7",
   "metadata": {},
   "source": [
    "노드데이터가 특정 숫자인 노드를 찾는 함수를 만들고, 테스트해보기"
   ]
  },
  {
   "cell_type": "code",
   "execution_count": 37,
   "id": "3deaaba6",
   "metadata": {},
   "outputs": [],
   "source": [
    "def serch_node(self, data):\n",
    "    node = self.head\n",
    "    while node:\n",
    "        if node.data==data:\n",
    "            return data\n",
    "        else:\n",
    "            node=node.next"
   ]
  },
  {
   "cell_type": "markdown",
   "id": "db3a98f8",
   "metadata": {},
   "source": [
    "# 링크드리스트의 다른 형태"
   ]
  },
  {
   "cell_type": "markdown",
   "id": "cb419584",
   "metadata": {},
   "source": [
    "더블 링크드 리스트 > 이전데이터주소, 데이터, 다음데이터주소  \n",
    "항상 앞에서만 검색해야하는 링크드리스트의 단점을 보완\n"
   ]
  },
  {
   "cell_type": "code",
   "execution_count": null,
   "id": "9c8a6ffc",
   "metadata": {},
   "outputs": [],
   "source": []
  },
  {
   "cell_type": "markdown",
   "id": "781e5f7e",
   "metadata": {},
   "source": [
    "노드 데이터가 특정숫자인 노드 뒤에 데이터를 추가하는 함수를 만들고 테스트"
   ]
  },
  {
   "cell_type": "code",
   "execution_count": null,
   "id": "9ccba301",
   "metadata": {},
   "outputs": [],
   "source": []
  },
  {
   "cell_type": "code",
   "execution_count": null,
   "id": "587e98bd",
   "metadata": {},
   "outputs": [],
   "source": []
  }
 ],
 "metadata": {
  "kernelspec": {
   "display_name": "Python 3 (ipykernel)",
   "language": "python",
   "name": "python3"
  },
  "language_info": {
   "codemirror_mode": {
    "name": "ipython",
    "version": 3
   },
   "file_extension": ".py",
   "mimetype": "text/x-python",
   "name": "python",
   "nbconvert_exporter": "python",
   "pygments_lexer": "ipython3",
   "version": "3.9.7"
  }
 },
 "nbformat": 4,
 "nbformat_minor": 5
}
