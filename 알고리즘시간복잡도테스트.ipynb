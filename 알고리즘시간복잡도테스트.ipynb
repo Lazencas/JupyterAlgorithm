{
 "cells": [
  {
   "cell_type": "markdown",
   "id": "42244c7a",
   "metadata": {},
   "source": [
    "# 1부터 n까지의 합을 구하는 알고리즘"
   ]
  },
  {
   "cell_type": "code",
   "execution_count": 1,
   "id": "4e368d9c",
   "metadata": {},
   "outputs": [],
   "source": [
    "import time"
   ]
  },
  {
   "cell_type": "code",
   "execution_count": 2,
   "id": "04c37d94",
   "metadata": {},
   "outputs": [],
   "source": [
    "def sum_all(n):\n",
    "    total=0\n",
    "    for num in range(1,n+1):\n",
    "        total+=num\n",
    "    return total"
   ]
  },
  {
   "cell_type": "code",
   "execution_count": 3,
   "id": "a4a2e904",
   "metadata": {},
   "outputs": [
    {
     "name": "stdout",
     "output_type": "stream",
     "text": [
      "시간: 0.001953125\n"
     ]
    }
   ],
   "source": [
    "start = time.time()\n",
    "sum_all(10000)\n",
    "print(\"시간:\", time.time()-start)"
   ]
  },
  {
   "cell_type": "code",
   "execution_count": 2,
   "id": "f8d2f1e9",
   "metadata": {},
   "outputs": [],
   "source": [
    "def sum_all(n):\n",
    "    return int(n*(n+1)/2)"
   ]
  },
  {
   "cell_type": "code",
   "execution_count": 3,
   "id": "d871a9fb",
   "metadata": {},
   "outputs": [
    {
     "name": "stdout",
     "output_type": "stream",
     "text": [
      "시간: 0.0\n"
     ]
    }
   ],
   "source": [
    "start = time.time()\n",
    "sum_all(10000)\n",
    "print(\"시간:\", time.time()-start)"
   ]
  }
 ],
 "metadata": {
  "kernelspec": {
   "display_name": "Python 3 (ipykernel)",
   "language": "python",
   "name": "python3"
  },
  "language_info": {
   "codemirror_mode": {
    "name": "ipython",
    "version": 3
   },
   "file_extension": ".py",
   "mimetype": "text/x-python",
   "name": "python",
   "nbconvert_exporter": "python",
   "pygments_lexer": "ipython3",
   "version": "3.9.7"
  }
 },
 "nbformat": 4,
 "nbformat_minor": 5
}
