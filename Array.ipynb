{
 "cells": [
  {
   "cell_type": "markdown",
   "id": "0a0a25ba",
   "metadata": {},
   "source": [
    "# 배열 (Array)"
   ]
  },
  {
   "cell_type": "markdown",
   "id": "1d99d1cd",
   "metadata": {},
   "source": [
    "### 데이터를 나열하고, 각 데이터를 인덱스에 대응하도록 구성한 데이터 구조\n",
    "### 파이썬에서는 리스트 타입이 배열기능을 제공하고있음"
   ]
  },
  {
   "cell_type": "markdown",
   "id": "ff309dfb",
   "metadata": {},
   "source": [
    "## 배열이 필요한 이유?\n",
    " - 같은 종류의 데이터를 효율적으로 관리하기 위해 사용\n",
    " - 같은 종류의 데이터를 순차적으로 저장"
   ]
  },
  {
   "cell_type": "markdown",
   "id": "c4721e15",
   "metadata": {},
   "source": [
    "데이터  P Y T H O N  \n",
    "인덱스  0 1 2 3 4 5"
   ]
  },
  {
   "cell_type": "markdown",
   "id": "0d68fa09",
   "metadata": {},
   "source": [
    "## 배열의 장점\n",
    " - 빠른접근 가능\n",
    " \n",
    "## 배열의 단점\n",
    " - 추가/삭제가 쉽지 않음\n",
    " - 미리 최대 길이를 정해야 함"
   ]
  },
  {
   "cell_type": "markdown",
   "id": "da519bae",
   "metadata": {},
   "source": [
    "## 2. 파이썬과 C언어의 배열 예제"
   ]
  },
  {
   "cell_type": "code",
   "execution_count": 1,
   "id": "d87f972f",
   "metadata": {},
   "outputs": [
    {
     "ename": "SyntaxError",
     "evalue": "invalid syntax (Temp/ipykernel_9000/60279374.py, line 3)",
     "output_type": "error",
     "traceback": [
      "\u001b[1;36m  File \u001b[1;32m\"C:\\Users\\Linyera\\AppData\\Local\\Temp/ipykernel_9000/60279374.py\"\u001b[1;36m, line \u001b[1;32m3\u001b[0m\n\u001b[1;33m    int main(int argc, char*argv[])\u001b[0m\n\u001b[1;37m        ^\u001b[0m\n\u001b[1;31mSyntaxError\u001b[0m\u001b[1;31m:\u001b[0m invalid syntax\n"
     ]
    }
   ],
   "source": [
    "#include <stdio.h>\n",
    "\n",
    "int main(int argc, char*argv[])\n",
    "{\n",
    "    char country[3] = \"US\";\n",
    "    printf(\"%c%c\\n\", country[0], country[1])\n",
    "    printf(\"%s\\n\", country);\n",
    "    return 0;\n",
    "}"
   ]
  },
  {
   "cell_type": "markdown",
   "id": "cf00edb0",
   "metadata": {},
   "source": [
    "### 아래같이 파이썬에서는 길이를 미리 지정해주지 않아도 됨"
   ]
  },
  {
   "cell_type": "code",
   "execution_count": 4,
   "id": "a64ddc60",
   "metadata": {},
   "outputs": [
    {
     "name": "stdout",
     "output_type": "stream",
     "text": [
      "US\n",
      "USA\n"
     ]
    }
   ],
   "source": [
    "country = 'US'\n",
    "print(country)\n",
    "\n",
    "country = country + 'A'\n",
    "print(country)"
   ]
  }
 ],
 "metadata": {
  "kernelspec": {
   "display_name": "Python 3 (ipykernel)",
   "language": "python",
   "name": "python3"
  },
  "language_info": {
   "codemirror_mode": {
    "name": "ipython",
    "version": 3
   },
   "file_extension": ".py",
   "mimetype": "text/x-python",
   "name": "python",
   "nbconvert_exporter": "python",
   "pygments_lexer": "ipython3",
   "version": "3.9.7"
  }
 },
 "nbformat": 4,
 "nbformat_minor": 5
}
