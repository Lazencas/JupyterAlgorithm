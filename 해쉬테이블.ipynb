{
 "cells": [
  {
   "cell_type": "markdown",
   "id": "5401b84a",
   "metadata": {},
   "source": [
    "# 해쉬테이블"
   ]
  },
  {
   "cell_type": "markdown",
   "id": "74cf5414",
   "metadata": {},
   "source": [
    "### 해쉬(hash):임의 값을 고정길이로 변환하는 것  \n",
    "### 해쉬테이블(Hash Table): 키 값의 연산에 의해 직접 접근이 가능한 데이터 구조\n",
    "### 해싱함수(Hashing Function): Key에 대해 산술연산을 이용해 데이터 위치를 찾을 수 있는 함수\n",
    "### 해쉬값(Hash Value)또는 해쉬 주소(Hash Address) Key를 해싱 함수로 연산해서, 해쉬 값을 알아내고 이를 기반으로 해쉬테이블에서 해당 Key에 대한 데이터 위치를 일관성 있게 찾을 수 있음\n",
    "### 슬롯(Slot):한 개의 데이터를 저장할 수 있는 공간\n",
    "### 저장할 데이터에 대해 Key를 추출할 수 있는 별도 함수도 존재할 수 있음"
   ]
  },
  {
   "cell_type": "code",
   "execution_count": 4,
   "id": "ba1a0125",
   "metadata": {},
   "outputs": [
    {
     "data": {
      "text/plain": [
       "[0, 1, 2, 3, 4, 5, 6, 7, 8, 9]"
      ]
     },
     "execution_count": 4,
     "metadata": {},
     "output_type": "execute_result"
    }
   ],
   "source": [
    "table2 = list([i for i in range(10)])\n",
    "table2"
   ]
  },
  {
   "cell_type": "code",
   "execution_count": 12,
   "id": "41e64e48",
   "metadata": {},
   "outputs": [
    {
     "data": {
      "text/plain": [
       "[0, 0, 0, 0, 0, 0, 0, 0, 0, 0]"
      ]
     },
     "execution_count": 12,
     "metadata": {},
     "output_type": "execute_result"
    }
   ],
   "source": [
    "table = list([0 for i in range(10)])\n",
    "table"
   ]
  },
  {
   "cell_type": "markdown",
   "id": "cf8e2563",
   "metadata": {},
   "source": [
    "간단한 방식이 Division 법 (나누기를 통한 나머지 값을 사용하는 기법)"
   ]
  },
  {
   "cell_type": "code",
   "execution_count": 18,
   "id": "3549b4d8",
   "metadata": {},
   "outputs": [],
   "source": [
    "def function(key):\n",
    "    return key % 5"
   ]
  },
  {
   "cell_type": "code",
   "execution_count": 19,
   "id": "33320dc7",
   "metadata": {},
   "outputs": [
    {
     "name": "stdout",
     "output_type": "stream",
     "text": [
      "65\n",
      "68\n",
      "84\n"
     ]
    },
    {
     "data": {
      "text/plain": [
       "(None, None, None)"
      ]
     },
     "execution_count": 19,
     "metadata": {},
     "output_type": "execute_result"
    }
   ],
   "source": [
    "data1 = 'Andy'\n",
    "data2 = 'Dave'\n",
    "data3 = 'Trump'\n",
    "#ord() 아스키코드로 변환\n",
    "print(ord(data1[0])),print(ord(data2[0])), print(ord(data3[0]))"
   ]
  },
  {
   "cell_type": "code",
   "execution_count": 20,
   "id": "d1a1069a",
   "metadata": {},
   "outputs": [],
   "source": [
    "def storage_data(data, value):\n",
    "    key = ord(data[0])\n",
    "    address = function(key)\n",
    "    table[address] = value"
   ]
  },
  {
   "cell_type": "code",
   "execution_count": 22,
   "id": "ec922244",
   "metadata": {},
   "outputs": [],
   "source": [
    "storage_data('Andy','01055553333')\n",
    "storage_data('Dave','01055552222')\n",
    "storage_data('Trump','010555550000')"
   ]
  },
  {
   "cell_type": "code",
   "execution_count": 41,
   "id": "9049d9f1",
   "metadata": {},
   "outputs": [],
   "source": [
    "def read(data):\n",
    "    key = ord(data[0])\n",
    "    address = function(key)\n",
    "    return table[address]\n",
    "\n",
    "def all():\n",
    "    for i in range(len(table)):\n",
    "     print(table[i])"
   ]
  },
  {
   "cell_type": "code",
   "execution_count": 42,
   "id": "847e2e21",
   "metadata": {},
   "outputs": [
    {
     "data": {
      "text/plain": [
       "'01055553333'"
      ]
     },
     "execution_count": 42,
     "metadata": {},
     "output_type": "execute_result"
    }
   ],
   "source": [
    "read('Andy')"
   ]
  },
  {
   "cell_type": "code",
   "execution_count": 43,
   "id": "800d84cf",
   "metadata": {},
   "outputs": [
    {
     "name": "stdout",
     "output_type": "stream",
     "text": [
      "0\n"
     ]
    }
   ],
   "source": [
    "print(table[1])"
   ]
  },
  {
   "cell_type": "code",
   "execution_count": 44,
   "id": "54f7d0e2",
   "metadata": {},
   "outputs": [
    {
     "name": "stdout",
     "output_type": "stream",
     "text": [
      "01055553333\n",
      "0\n",
      "0\n",
      "01055552222\n",
      "010555550000\n",
      "0\n",
      "0\n",
      "0\n",
      "0\n",
      "0\n"
     ]
    }
   ],
   "source": [
    "all()"
   ]
  },
  {
   "cell_type": "code",
   "execution_count": 45,
   "id": "eb3dae55",
   "metadata": {},
   "outputs": [
    {
     "name": "stdout",
     "output_type": "stream",
     "text": [
      "10\n"
     ]
    }
   ],
   "source": [
    "print(len(table))"
   ]
  },
  {
   "cell_type": "markdown",
   "id": "e451e9c5",
   "metadata": {},
   "source": [
    "## 해쉬구조  \n",
    " -보통 배열로 미리 Hash Table 사이즈만큼 생성 후에 사용(공간과 탐색시간의 교환 느낌)  \n",
    " -파이썬 딕셔너리(Dictionary)타입이 해쉬테이블의 예: Key를 가지고 바로 데이터를(Value)를 꺼냄  \n",
    " -사실 파이썬의 딕셔너리 타입이 해쉬랑 같은 역할이라 파이썬에서는 구현할 이유가 없긴 함  \n",
    " -캐시에 사용함(중복체크가 용이하기 때문에)  "
   ]
  },
  {
   "cell_type": "code",
   "execution_count": 33,
   "id": "111ed04a",
   "metadata": {},
   "outputs": [
    {
     "data": {
      "text/plain": [
       "-8392695210832562564"
      ]
     },
     "execution_count": 33,
     "metadata": {},
     "output_type": "execute_result"
    }
   ],
   "source": [
    "hash('Dave')"
   ]
  },
  {
   "cell_type": "code",
   "execution_count": 34,
   "id": "c665a1dc",
   "metadata": {},
   "outputs": [],
   "source": [
    "table = list([0 for i in range(8)])\n",
    "\n",
    "def get_key(data):\n",
    "    return hash(data)\n",
    "\n",
    "def function(key):\n",
    "    return key%8\n",
    "\n",
    "def save(data, value):\n",
    "    key = get_key(data)\n",
    "    address=function(key)\n",
    "    table[address] = value\n",
    "\n",
    "def read(data):\n",
    "    key = get_key(data)\n",
    "    address = function(key)\n",
    "    return table[address]"
   ]
  },
  {
   "cell_type": "code",
   "execution_count": 35,
   "id": "7a91d88f",
   "metadata": {},
   "outputs": [],
   "source": [
    "save('bravo','123456789')\n",
    "save('kata','789456123')\n",
    "save('ppooii','445566')"
   ]
  },
  {
   "cell_type": "code",
   "execution_count": 36,
   "id": "2de072a9",
   "metadata": {},
   "outputs": [
    {
     "data": {
      "text/plain": [
       "'445566'"
      ]
     },
     "execution_count": 36,
     "metadata": {},
     "output_type": "execute_result"
    }
   ],
   "source": [
    "\n",
    "read('ppooii')"
   ]
  },
  {
   "cell_type": "code",
   "execution_count": 37,
   "id": "07b95b55",
   "metadata": {},
   "outputs": [
    {
     "data": {
      "text/plain": [
       "'445566'"
      ]
     },
     "execution_count": 37,
     "metadata": {},
     "output_type": "execute_result"
    }
   ],
   "source": [
    "read('kata')"
   ]
  },
  {
   "cell_type": "code",
   "execution_count": 38,
   "id": "c626a546",
   "metadata": {},
   "outputs": [
    {
     "data": {
      "text/plain": [
       "'123456789'"
      ]
     },
     "execution_count": 38,
     "metadata": {},
     "output_type": "execute_result"
    }
   ],
   "source": [
    "read('bravo')"
   ]
  },
  {
   "cell_type": "code",
   "execution_count": 39,
   "id": "9e094060",
   "metadata": {},
   "outputs": [
    {
     "name": "stdout",
     "output_type": "stream",
     "text": [
      "-4341260307052889722\n",
      "6\n"
     ]
    }
   ],
   "source": [
    "print(hash('ppooii'))\n",
    "print(hash('ppooii')%8)\n"
   ]
  },
  {
   "cell_type": "code",
   "execution_count": 18,
   "id": "e0f8dbac",
   "metadata": {},
   "outputs": [
    {
     "name": "stdout",
     "output_type": "stream",
     "text": [
      "-4138057880405240186\n",
      "6\n"
     ]
    }
   ],
   "source": [
    "print(hash('kata'))\n",
    "print(hash('kata')%8)"
   ]
  },
  {
   "cell_type": "code",
   "execution_count": 19,
   "id": "ffb9ea11",
   "metadata": {},
   "outputs": [
    {
     "name": "stdout",
     "output_type": "stream",
     "text": [
      "964748171991934373\n",
      "5\n"
     ]
    }
   ],
   "source": [
    "print(hash('bravo'))\n",
    "print(hash('bravo')%8)"
   ]
  },
  {
   "cell_type": "code",
   "execution_count": 13,
   "id": "c9c19a6c",
   "metadata": {},
   "outputs": [
    {
     "data": {
      "text/plain": [
       "[0, 0, 0, 0, 0, '123456789', '445566', 0]"
      ]
     },
     "execution_count": 13,
     "metadata": {},
     "output_type": "execute_result"
    }
   ],
   "source": [
    "table"
   ]
  },
  {
   "cell_type": "markdown",
   "id": "6577e536",
   "metadata": {},
   "source": [
    "## 충돌(Collision)해결 알고리즘 (좋은 해쉬 함수 사용하기)"
   ]
  },
  {
   "cell_type": "code",
   "execution_count": null,
   "id": "8727edb3",
   "metadata": {},
   "outputs": [],
   "source": []
  },
  {
   "cell_type": "markdown",
   "id": "356045ae",
   "metadata": {},
   "source": [
    "chaining 기법"
   ]
  },
  {
   "cell_type": "markdown",
   "id": "6d7b2e49",
   "metadata": {},
   "source": [
    "개방 해슁 또는 open Hashing 기법 중 하나: 해쉬테이블 저장공간 외의 공간을 활용하는 기법 \n",
    "충돌이 일어나면, 링크드 리스트라는 자료구조를 사용해서, 링크드 리스트로 데이터를 추가로 뒤에 연결시켜서 저장하는 기법"
   ]
  },
  {
   "cell_type": "code",
   "execution_count": 17,
   "id": "9384e607",
   "metadata": {},
   "outputs": [],
   "source": [
    "table = list([0 for i in range(8)])\n",
    "\n",
    "def get_key(data):\n",
    "    return hash(data)\n",
    "\n",
    "def function(key):\n",
    "    return key%8\n",
    "\n",
    "def save(data, value):\n",
    "    key = get_key(data)\n",
    "    address = function(key)\n",
    "    if table[address] != 0:\n",
    "        for index in range(len(table[address])):\n",
    "            if table[address][index][0] == key:\n",
    "                table[address][index][1] = value\n",
    "                return\n",
    "        table[address].append([key, value])\n",
    "    else:\n",
    "        table[address] = [[key, value]]\n",
    "    \n",
    "\n",
    "def read_data(data):\n",
    "    key = get_key(data)\n",
    "    address = function(key)\n",
    "\n",
    "    if table[address] != 0:\n",
    "        for index in range(len(table[address])):\n",
    "            if table[address][index][0] == key:\n",
    "                return table[address][index][1]\n",
    "        return None\n",
    "    else:\n",
    "        return None"
   ]
  },
  {
   "cell_type": "code",
   "execution_count": 18,
   "id": "965fbb06",
   "metadata": {},
   "outputs": [],
   "source": [
    "save('kata','789456123')\n",
    "save('ppooii','445566')\n",
    "save('zxcv','000000')\n",
    "save('qwer','1111111')\n",
    "save('asdf','22222')"
   ]
  },
  {
   "cell_type": "code",
   "execution_count": 19,
   "id": "eecbc7c7",
   "metadata": {},
   "outputs": [
    {
     "data": {
      "text/plain": [
       "[0,\n",
       " 0,\n",
       " [[2371422221880229746, '445566']],\n",
       " [[2210543145090296779, '000000'], [-473993961678506941, '22222']],\n",
       " [[-5015863704906148860, '789456123']],\n",
       " 0,\n",
       " [[8817366053138407158, '1111111']],\n",
       " 0]"
      ]
     },
     "execution_count": 19,
     "metadata": {},
     "output_type": "execute_result"
    }
   ],
   "source": [
    "table"
   ]
  },
  {
   "cell_type": "code",
   "execution_count": 20,
   "id": "9adede33",
   "metadata": {},
   "outputs": [
    {
     "data": {
      "text/plain": [
       "'789456123'"
      ]
     },
     "execution_count": 20,
     "metadata": {},
     "output_type": "execute_result"
    }
   ],
   "source": [
    "read_data('kata')"
   ]
  },
  {
   "cell_type": "markdown",
   "id": "dec8a097",
   "metadata": {},
   "source": [
    "Linear Probing 기법"
   ]
  },
  {
   "cell_type": "markdown",
   "id": "83bfd59a",
   "metadata": {},
   "source": [
    "폐쇄해슁 또는 Close Hashing 기법 중 하나: 해쉬 테이블 저장공간안에서 충돌문제를 해결하는 기법  \n",
    "충돌이 일어나면, 해당 hash address의 다음 adress부터 맨 처음 나오는 빈공간에 저장하는 기법  \n",
    " 저장공간 활용도를 높이기 위한 기법"
   ]
  },
  {
   "cell_type": "code",
   "execution_count": 13,
   "id": "cf59f86a",
   "metadata": {},
   "outputs": [],
   "source": [
    "import hashlib\n",
    "table = list([0 for i in range(8)])\n",
    "\n",
    "def get_key(data):\n",
    "    hash_object = hashlib.sha256()\n",
    "    hash_object.update(data.encode())\n",
    "    hex_dig=hash_object.hexdigest()\n",
    "    return int(hex_dig, 16)\n",
    "\n",
    "def function(key):\n",
    "    return key%8\n",
    "\n",
    "def save(data, value):\n",
    "    key = get_key(data)\n",
    "    address = function(key)\n",
    "    if table[address] != 0:\n",
    "        for index in range(address,len(table)):\n",
    "            if table[index] == 0:\n",
    "                table[index]=[key,value]\n",
    "                return\n",
    "            elif table[index][0]==key:\n",
    "                table[index][1]=value\n",
    "                return\n",
    "    else:\n",
    "        table[address]=[key,value]\n",
    "       \n",
    "\n",
    "\n",
    "def read_data(data):\n",
    "    key = get_key(data)\n",
    "    address = function(key)\n",
    "    \n",
    "    if table[address]!=0:\n",
    "        for index in range(address,len(table)):\n",
    "            if table[index]==0:\n",
    "                return None\n",
    "                \n",
    "            elif table[index][0]==key:\n",
    "                return table[index][1]    \n",
    "    \n",
    "    else:\n",
    "        return None\n",
    "\n",
    "    "
   ]
  },
  {
   "cell_type": "code",
   "execution_count": 14,
   "id": "cc5f8bcc",
   "metadata": {},
   "outputs": [
    {
     "name": "stdout",
     "output_type": "stream",
     "text": [
      "2\n",
      "2\n"
     ]
    }
   ],
   "source": [
    "print(hash('di')%8)\n",
    "print(hash('db')%8)"
   ]
  },
  {
   "cell_type": "code",
   "execution_count": 15,
   "id": "3cf06594",
   "metadata": {},
   "outputs": [
    {
     "data": {
      "text/plain": [
       "'222222222'"
      ]
     },
     "execution_count": 15,
     "metadata": {},
     "output_type": "execute_result"
    }
   ],
   "source": [
    "save('di','1111111')\n",
    "save('db','222222222')\n",
    "read_data('db')"
   ]
  },
  {
   "cell_type": "code",
   "execution_count": 16,
   "id": "4403787f",
   "metadata": {},
   "outputs": [
    {
     "data": {
      "text/plain": [
       "[0,\n",
       " [56023447740326973930934189836995694929976025384421001605890631798736143110161,\n",
       "  '222222222'],\n",
       " 0,\n",
       " 0,\n",
       " [15546199773186530762053787876980032174805601869698084382860257834671111357348,\n",
       "  '1111111'],\n",
       " 0,\n",
       " 0,\n",
       " 0]"
      ]
     },
     "execution_count": 16,
     "metadata": {},
     "output_type": "execute_result"
    }
   ],
   "source": [
    "table"
   ]
  },
  {
   "cell_type": "code",
   "execution_count": null,
   "id": "819a5f45",
   "metadata": {},
   "outputs": [],
   "source": []
  },
  {
   "cell_type": "code",
   "execution_count": 17,
   "id": "5249da86",
   "metadata": {},
   "outputs": [],
   "source": [
    "tt = list([0 for i in range(6)])\n"
   ]
  },
  {
   "cell_type": "code",
   "execution_count": 18,
   "id": "487fbc05",
   "metadata": {},
   "outputs": [
    {
     "name": "stdout",
     "output_type": "stream",
     "text": [
      "0\n",
      "1\n",
      "2\n",
      "3\n",
      "4\n",
      "5\n"
     ]
    }
   ],
   "source": [
    "for index in range(len(tt)):\n",
    "    print(index)"
   ]
  },
  {
   "cell_type": "markdown",
   "id": "12dabc10",
   "metadata": {},
   "source": [
    "해쉬테이블의 빈번한 충돌 개선 > 공간을 팍팍 늘리면 됨"
   ]
  },
  {
   "cell_type": "markdown",
   "id": "28bfeef7",
   "metadata": {},
   "source": [
    "파이썬의 hash() 함수는 실행할 때마다, 값이 달라질 수 있음  \n",
    "유명한 해쉬함수 : SHA(Secure Hash Algorithm, 안전한 해시 알고리즘)  \n",
    "     -어떤 데이터도 유일한 고정된 크기의 고정값을 리턴해주므로, 해쉬 함수로 유용하게 활용 가능"
   ]
  },
  {
   "cell_type": "markdown",
   "id": "2dea3eed",
   "metadata": {},
   "source": [
    "SHA-1"
   ]
  },
  {
   "cell_type": "code",
   "execution_count": 25,
   "id": "fa2a4822",
   "metadata": {},
   "outputs": [
    {
     "name": "stdout",
     "output_type": "stream",
     "text": [
      "a94a8fe5ccb19ba61c4c0873d391e987982fbbd3\n"
     ]
    }
   ],
   "source": [
    "import hashlib\n",
    "\n",
    "data = 'test'.encode() # 이거랑 b'test' 이거랑 같은 뜻의 코드인거임\n",
    "hash_object = hashlib.sha1()\n",
    "hash_object.update(b'test') #바이트형태로 바꿔줘야 들어감\n",
    "hex_dig = hash_object.hexdigest()\n",
    "print(hex_dig)"
   ]
  },
  {
   "cell_type": "markdown",
   "id": "5227b808",
   "metadata": {},
   "source": [
    "SHA-256"
   ]
  },
  {
   "cell_type": "code",
   "execution_count": 24,
   "id": "93ee6038",
   "metadata": {},
   "outputs": [
    {
     "name": "stdout",
     "output_type": "stream",
     "text": [
      "9f86d081884c7d659a2feaa0c55ad015a3bf4f1b2b0b822cd15d6c15b0f00a08\n"
     ]
    }
   ],
   "source": [
    "import hashlib\n",
    "\n",
    "data = 'test'.encode()  #여기서 인코드하는것은 바이트로 바꿔주는것\n",
    "hash_object = hashlib.sha256()\n",
    "hash_object.update(b'test')\n",
    "hex_dig = hash_object.hexdigest()\n",
    "print(hex_dig)"
   ]
  }
 ],
 "metadata": {
  "kernelspec": {
   "display_name": "Python 3 (ipykernel)",
   "language": "python",
   "name": "python3"
  },
  "language_info": {
   "codemirror_mode": {
    "name": "ipython",
    "version": 3
   },
   "file_extension": ".py",
   "mimetype": "text/x-python",
   "name": "python",
   "nbconvert_exporter": "python",
   "pygments_lexer": "ipython3",
   "version": "3.9.7"
  }
 },
 "nbformat": 4,
 "nbformat_minor": 5
}
