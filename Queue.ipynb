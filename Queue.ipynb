{
 "cells": [
  {
   "cell_type": "markdown",
   "id": "2c11c99f",
   "metadata": {},
   "source": [
    "# 큐 (Queue)"
   ]
  },
  {
   "cell_type": "markdown",
   "id": "fd20b4c8",
   "metadata": {},
   "source": [
    "## 1. 큐 구조\n",
    " - FIFO\n",
    " - 스택의 LILO 와는 반대"
   ]
  },
  {
   "cell_type": "markdown",
   "id": "5231d3ea",
   "metadata": {},
   "source": [
    "## 2. 알아둘 용어\n",
    " - Enqueue: 데이터 넣기\n",
    " - Dequeue: 데이터 빼기"
   ]
  },
  {
   "cell_type": "markdown",
   "id": "7b0cd950",
   "metadata": {},
   "source": [
    "## 3. 파이썬에서 제공하는 queue \n",
    " - Queue(): 일반적인 큐 자료구조\n",
    " - LifoQueue(): LILO방식의 구조\n",
    " - PriorityQueue():데이터마다 우선순위를 넣어서, 우선순위가 높은 순으로 출력"
   ]
  },
  {
   "cell_type": "code",
   "execution_count": 1,
   "id": "b366cca6",
   "metadata": {},
   "outputs": [],
   "source": [
    "import queue\n",
    "\n",
    "myqueue = queue.Queue()"
   ]
  },
  {
   "cell_type": "code",
   "execution_count": 2,
   "id": "28e18431",
   "metadata": {},
   "outputs": [],
   "source": [
    "myqueue.put(\"bravo\")\n",
    "myqueue.put(1)"
   ]
  },
  {
   "cell_type": "code",
   "execution_count": 3,
   "id": "a539f461",
   "metadata": {},
   "outputs": [
    {
     "data": {
      "text/plain": [
       "2"
      ]
     },
     "execution_count": 3,
     "metadata": {},
     "output_type": "execute_result"
    }
   ],
   "source": [
    "myqueue.qsize()"
   ]
  },
  {
   "cell_type": "code",
   "execution_count": 4,
   "id": "bb167bae",
   "metadata": {},
   "outputs": [
    {
     "data": {
      "text/plain": [
       "'bravo'"
      ]
     },
     "execution_count": 4,
     "metadata": {},
     "output_type": "execute_result"
    }
   ],
   "source": [
    "myqueue.get()"
   ]
  },
  {
   "cell_type": "code",
   "execution_count": 5,
   "id": "007993db",
   "metadata": {},
   "outputs": [
    {
     "data": {
      "text/plain": [
       "1"
      ]
     },
     "execution_count": 5,
     "metadata": {},
     "output_type": "execute_result"
    }
   ],
   "source": [
    "myqueue.get()"
   ]
  },
  {
   "cell_type": "code",
   "execution_count": 6,
   "id": "7c23894b",
   "metadata": {},
   "outputs": [
    {
     "data": {
      "text/plain": [
       "0"
      ]
     },
     "execution_count": 6,
     "metadata": {},
     "output_type": "execute_result"
    }
   ],
   "source": [
    "myqueue.qsize()"
   ]
  },
  {
   "cell_type": "markdown",
   "id": "6c619c0e",
   "metadata": {},
   "source": [
    "### LifoQueue 테스트"
   ]
  },
  {
   "cell_type": "code",
   "execution_count": 7,
   "id": "40888a42",
   "metadata": {},
   "outputs": [],
   "source": [
    "import queue\n",
    "mylifoqueue = queue.LifoQueue()"
   ]
  },
  {
   "cell_type": "code",
   "execution_count": 8,
   "id": "987221ad",
   "metadata": {},
   "outputs": [],
   "source": [
    "mylifoqueue.put(\"testman\")\n",
    "mylifoqueue.put(\"123\")\n",
    "mylifoqueue.put(\"pllll\")"
   ]
  },
  {
   "cell_type": "code",
   "execution_count": 9,
   "id": "ee57f171",
   "metadata": {},
   "outputs": [
    {
     "data": {
      "text/plain": [
       "'pllll'"
      ]
     },
     "execution_count": 9,
     "metadata": {},
     "output_type": "execute_result"
    }
   ],
   "source": [
    "mylifoqueue.get()"
   ]
  },
  {
   "cell_type": "code",
   "execution_count": 10,
   "id": "e23a2248",
   "metadata": {},
   "outputs": [
    {
     "data": {
      "text/plain": [
       "'123'"
      ]
     },
     "execution_count": 10,
     "metadata": {},
     "output_type": "execute_result"
    }
   ],
   "source": [
    "mylifoqueue.get()"
   ]
  },
  {
   "cell_type": "code",
   "execution_count": 11,
   "id": "b2d38d49",
   "metadata": {},
   "outputs": [
    {
     "data": {
      "text/plain": [
       "'testman'"
      ]
     },
     "execution_count": 11,
     "metadata": {},
     "output_type": "execute_result"
    }
   ],
   "source": [
    "mylifoqueue.get()"
   ]
  },
  {
   "cell_type": "markdown",
   "id": "ca13b9d1",
   "metadata": {},
   "source": [
    "## PriorityQueue()"
   ]
  },
  {
   "cell_type": "code",
   "execution_count": 1,
   "id": "a37aa7b0",
   "metadata": {},
   "outputs": [],
   "source": [
    "import queue\n",
    "\n",
    "data_queue=queue.PriorityQueue()"
   ]
  },
  {
   "cell_type": "code",
   "execution_count": 2,
   "id": "001cc429",
   "metadata": {},
   "outputs": [],
   "source": [
    "data_queue.put((10,\"korea\"))\n",
    "data_queue.put((5,1))\n",
    "data_queue.put((15,\"japan\"))"
   ]
  },
  {
   "cell_type": "code",
   "execution_count": 3,
   "id": "dd13c752",
   "metadata": {},
   "outputs": [
    {
     "data": {
      "text/plain": [
       "3"
      ]
     },
     "execution_count": 3,
     "metadata": {},
     "output_type": "execute_result"
    }
   ],
   "source": [
    "data_queue.qsize()"
   ]
  },
  {
   "cell_type": "code",
   "execution_count": 4,
   "id": "f800923c",
   "metadata": {},
   "outputs": [
    {
     "data": {
      "text/plain": [
       "(5, 1)"
      ]
     },
     "execution_count": 4,
     "metadata": {},
     "output_type": "execute_result"
    }
   ],
   "source": [
    "data_queue.get()"
   ]
  },
  {
   "cell_type": "code",
   "execution_count": 5,
   "id": "421b9bd3",
   "metadata": {},
   "outputs": [
    {
     "data": {
      "text/plain": [
       "(10, 'korea')"
      ]
     },
     "execution_count": 5,
     "metadata": {},
     "output_type": "execute_result"
    }
   ],
   "source": [
    "data_queue.get()"
   ]
  },
  {
   "cell_type": "markdown",
   "id": "18fe707a",
   "metadata": {},
   "source": [
    "## 큐가 어디에 많이 쓰일까?\n",
    " - 멀티 태스킹을 위한 프로세스 스케줄링 방식을 구현하기 위해 많이 사용됨(운영체제)\n",
    " - 특별히 언급되는 장단점이 없음. 무난함. 큐의 활용 예로 스케줄링 방식을 이해해두는 것이 좋음"
   ]
  },
  {
   "cell_type": "markdown",
   "id": "ba989698",
   "metadata": {},
   "source": [
    "### 리스트로 큐 구현"
   ]
  },
  {
   "cell_type": "code",
   "execution_count": 1,
   "id": "7aa27079",
   "metadata": {},
   "outputs": [],
   "source": [
    "myqueue = list()\n",
    "\n",
    "def enqueue(data):\n",
    " myqueue.append(data)\n",
    "\n",
    "def dequeue():\n",
    " data = myqueue[0]    \n",
    " del myqueue[0]\n",
    " return data"
   ]
  },
  {
   "cell_type": "code",
   "execution_count": 2,
   "id": "4ab561dd",
   "metadata": {},
   "outputs": [],
   "source": [
    "for index in range(10):\n",
    "    enqueue(index)"
   ]
  },
  {
   "cell_type": "code",
   "execution_count": 6,
   "id": "a0d38154",
   "metadata": {},
   "outputs": [
    {
     "data": {
      "text/plain": [
       "3"
      ]
     },
     "execution_count": 6,
     "metadata": {},
     "output_type": "execute_result"
    }
   ],
   "source": [
    "dequeue()"
   ]
  },
  {
   "cell_type": "code",
   "execution_count": null,
   "id": "11e56c8c",
   "metadata": {},
   "outputs": [],
   "source": []
  }
 ],
 "metadata": {
  "kernelspec": {
   "display_name": "Python 3 (ipykernel)",
   "language": "python",
   "name": "python3"
  },
  "language_info": {
   "codemirror_mode": {
    "name": "ipython",
    "version": 3
   },
   "file_extension": ".py",
   "mimetype": "text/x-python",
   "name": "python",
   "nbconvert_exporter": "python",
   "pygments_lexer": "ipython3",
   "version": "3.9.7"
  }
 },
 "nbformat": 4,
 "nbformat_minor": 5
}
