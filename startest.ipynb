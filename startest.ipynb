{
 "cells": [
  {
   "cell_type": "markdown",
   "id": "21da5e0a",
   "metadata": {},
   "source": [
    "# 마크다운 테스트 및 단축키 테스트.\n",
    "## 하라라라라라라\n",
    "### 이이이이이잉\n",
    "#### 계속작아진다\n",
    "##### 6개까지 된다는데\n",
    "###### 작아진다\n",
    "####### 역시 7개는 안된다"
   ]
  },
  {
   "cell_type": "code",
   "execution_count": 7,
   "id": "d6713f66",
   "metadata": {},
   "outputs": [],
   "source": [
    "datas=1"
   ]
  },
  {
   "cell_type": "code",
   "execution_count": 8,
   "id": "7e0eaf05",
   "metadata": {},
   "outputs": [
    {
     "name": "stdout",
     "output_type": "stream",
     "text": [
      "1\n"
     ]
    }
   ],
   "source": [
    "print(data)"
   ]
  }
 ],
 "metadata": {
  "kernelspec": {
   "display_name": "Python 3 (ipykernel)",
   "language": "python",
   "name": "python3"
  },
  "language_info": {
   "codemirror_mode": {
    "name": "ipython",
    "version": 3
   },
   "file_extension": ".py",
   "mimetype": "text/x-python",
   "name": "python",
   "nbconvert_exporter": "python",
   "pygments_lexer": "ipython3",
   "version": "3.9.7"
  }
 },
 "nbformat": 4,
 "nbformat_minor": 5
}
